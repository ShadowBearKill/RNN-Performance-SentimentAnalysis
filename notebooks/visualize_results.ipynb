{
 "cells": [
  {
   "cell_type": "code",
   "execution_count": null,
   "id": "c395335e",
   "metadata": {
    "vscode": {
     "languageId": "plaintext"
    }
   },
   "outputs": [],
   "source": [
    "plt.figure(figsize=(12, 8))\n",
    "sns.set_style(\"whitegrid\")\n",
    "\n",
    "# 使用 F1 分数作为性能指标 (Y轴)，推理时间作为效率指标 (X轴)\n",
    "# 使用 准确率 作为点的大小，提供额外信息\n",
    "ax = sns.scatterplot(\n",
    "    x='avg_inference_time_ms', \n",
    "    y='f1_score',\n",
    "    data=results_df,\n",
    "    hue='model',          # 每个模型用不同颜色\n",
    "    size='accuracy',      # 准确率越高，点越大\n",
    "    sizes=(100, 600),     # 点大小范围\n",
    "    palette='viridis',\n",
    "    legend='full'\n",
    ")\n",
    "\n",
    "plt.xscale('log') # 设置X轴为对数尺度\n",
    "plt.title('模型性能 vs. 推理效率 (对数坐标轴)', fontsize=16)\n",
    "plt.xlabel('平均推理时间 (ms/sample) - 对数尺度', fontsize=12)\n",
    "plt.ylabel('F1 分数', fontsize=12)\n",
    "\n",
    "# 为每个点添加模型名称标签\n",
    "for i in range(results_df.shape[0]):\n",
    "    plt.text(\n",
    "        x=results_df.avg_inference_time_ms[i],\n",
    "        y=results_df.f1_score[i],\n",
    "        s=f\" {results_df.model[i]}\", # 加个空格避免重叠\n",
    "        fontdict=dict(color='black', size=10)\n",
    "    )\n",
    "\n",
    "# 调整图例位置，防止遮挡\n",
    "plt.legend(bbox_to_anchor=(1.05, 1), loc=2, borderaxespad=0.)\n",
    "\n",
    "plt.grid(True, which=\"both\", ls=\"--\")\n",
    "plt.tight_layout()\n",
    "plt.show()\n"
   ]
  }
 ],
 "metadata": {
  "language_info": {
   "name": "python"
  }
 },
 "nbformat": 4,
 "nbformat_minor": 5
}
